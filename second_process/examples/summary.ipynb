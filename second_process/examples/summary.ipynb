{
 "cells": [
  {
   "cell_type": "markdown",
   "metadata": {},
   "source": [
    "# Score Summary"
   ]
  },
  {
   "cell_type": "code",
   "execution_count": 1,
   "metadata": {},
   "outputs": [],
   "source": [
    "from pathlib import Path\n",
    "import altair as alt\n",
    "import numpy as np\n",
    "import pandas as pd\n",
    "\n",
    "from espipeline.filemanager import FileManager"
   ]
  },
  {
   "cell_type": "markdown",
   "metadata": {},
   "source": [
    "### Set up file manager"
   ]
  },
  {
   "cell_type": "code",
   "execution_count": 2,
   "metadata": {},
   "outputs": [],
   "source": [
    "cluster = True  # working on cluster or local computer\n",
    "prefix = Path('/mnt/team/msca') if cluster else Path('/Volumes/team_msca/')\n",
    "i_folder = prefix / 'pub/archive/evidence-score/gbd2020-process'\n",
    "o_folder = 'results'\n",
    "fm = FileManager(i_folder, o_folder)"
   ]
  },
  {
   "cell_type": "markdown",
   "metadata": {},
   "source": [
    "### Gather metadata from folders"
   ]
  },
  {
   "cell_type": "code",
   "execution_count": 3,
   "metadata": {},
   "outputs": [],
   "source": [
    "metadata = []\n",
    "for pair in fm.pairs:\n",
    "    df = pd.read_csv(fm.pair_paths[pair] / 'risk_cause_metadata.csv')\n",
    "    df_new = pd.read_csv(fm.pair_paths[pair] / 'new_risk_cause_metadata.csv')\n",
    "    df[\"name\"] = pair\n",
    "    for col in [\"score\", \"pub_bias\"]:\n",
    "        df[f\"{col}_new\"] = df_new[col]\n",
    "    metadata.append(df)\n",
    "\n",
    "pairs = pd.concat(metadata)\n",
    "for col in [\"rei_id\", \"cause_id\"]:\n",
    "    pairs[col].replace(\"unknown\", -1, inplace=True)\n",
    "pairs.to_csv(fm.o_path / 'score_summary.csv', index=False)"
   ]
  },
  {
   "cell_type": "markdown",
   "metadata": {},
   "source": [
    "### Some pairs don't have ids"
   ]
  },
  {
   "cell_type": "code",
   "execution_count": 4,
   "metadata": {},
   "outputs": [
    {
     "data": {
      "text/html": [
       "<div>\n",
       "<style scoped>\n",
       "    .dataframe tbody tr th:only-of-type {\n",
       "        vertical-align: middle;\n",
       "    }\n",
       "\n",
       "    .dataframe tbody tr th {\n",
       "        vertical-align: top;\n",
       "    }\n",
       "\n",
       "    .dataframe thead th {\n",
       "        text-align: right;\n",
       "    }\n",
       "</style>\n",
       "<table border=\"1\" class=\"dataframe\">\n",
       "  <thead>\n",
       "    <tr style=\"text-align: right;\">\n",
       "      <th></th>\n",
       "      <th>rei_id</th>\n",
       "      <th>cause_id</th>\n",
       "      <th>risk_lower</th>\n",
       "      <th>risk_upper</th>\n",
       "      <th>risk_unit</th>\n",
       "      <th>risk_type</th>\n",
       "      <th>score</th>\n",
       "      <th>pub_bias</th>\n",
       "      <th>name</th>\n",
       "      <th>score_new</th>\n",
       "      <th>pub_bias_new</th>\n",
       "    </tr>\n",
       "  </thead>\n",
       "  <tbody>\n",
       "  </tbody>\n",
       "</table>\n",
       "</div>"
      ],
      "text/plain": [
       "Empty DataFrame\n",
       "Columns: [rei_id, cause_id, risk_lower, risk_upper, risk_unit, risk_type, score, pub_bias, name, score_new, pub_bias_new]\n",
       "Index: []"
      ]
     },
     "execution_count": 4,
     "metadata": {},
     "output_type": "execute_result"
    }
   ],
   "source": [
    "pairs[(pairs['rei_id'] == -1) | (pairs['cause_id'] == -1)]"
   ]
  },
  {
   "cell_type": "markdown",
   "metadata": {},
   "source": [
    "### Some pairs don't have new scores yet"
   ]
  },
  {
   "cell_type": "code",
   "execution_count": 5,
   "metadata": {},
   "outputs": [
    {
     "data": {
      "text/html": [
       "<div>\n",
       "<style scoped>\n",
       "    .dataframe tbody tr th:only-of-type {\n",
       "        vertical-align: middle;\n",
       "    }\n",
       "\n",
       "    .dataframe tbody tr th {\n",
       "        vertical-align: top;\n",
       "    }\n",
       "\n",
       "    .dataframe thead th {\n",
       "        text-align: right;\n",
       "    }\n",
       "</style>\n",
       "<table border=\"1\" class=\"dataframe\">\n",
       "  <thead>\n",
       "    <tr style=\"text-align: right;\">\n",
       "      <th></th>\n",
       "      <th>rei_id</th>\n",
       "      <th>cause_id</th>\n",
       "      <th>risk_lower</th>\n",
       "      <th>risk_upper</th>\n",
       "      <th>risk_unit</th>\n",
       "      <th>risk_type</th>\n",
       "      <th>score</th>\n",
       "      <th>pub_bias</th>\n",
       "      <th>name</th>\n",
       "      <th>score_new</th>\n",
       "      <th>pub_bias_new</th>\n",
       "    </tr>\n",
       "  </thead>\n",
       "  <tbody>\n",
       "  </tbody>\n",
       "</table>\n",
       "</div>"
      ],
      "text/plain": [
       "Empty DataFrame\n",
       "Columns: [rei_id, cause_id, risk_lower, risk_upper, risk_unit, risk_type, score, pub_bias, name, score_new, pub_bias_new]\n",
       "Index: []"
      ]
     },
     "execution_count": 5,
     "metadata": {},
     "output_type": "execute_result"
    }
   ],
   "source": [
    "pairs[pairs['score_new'].isna()]"
   ]
  },
  {
   "cell_type": "markdown",
   "metadata": {},
   "source": [
    "### Plot scores\n",
    "\n",
    "Plots are interactive! Hover over data for tooltip and selections :)"
   ]
  },
  {
   "cell_type": "code",
   "execution_count": 6,
   "metadata": {},
   "outputs": [
    {
     "data": {
      "text/html": [
       "\n",
       "<div id=\"altair-viz-87a183c7521d4e5289ffb4bf17209764\"></div>\n",
       "<script type=\"text/javascript\">\n",
       "  (function(spec, embedOpt){\n",
       "    let outputDiv = document.currentScript.previousElementSibling;\n",
       "    if (outputDiv.id !== \"altair-viz-87a183c7521d4e5289ffb4bf17209764\") {\n",
       "      outputDiv = document.getElementById(\"altair-viz-87a183c7521d4e5289ffb4bf17209764\");\n",
       "    }\n",
       "    const paths = {\n",
       "      \"vega\": \"https://cdn.jsdelivr.net/npm//vega@5?noext\",\n",
       "      \"vega-lib\": \"https://cdn.jsdelivr.net/npm//vega-lib?noext\",\n",
       "      \"vega-lite\": \"https://cdn.jsdelivr.net/npm//vega-lite@4.8.1?noext\",\n",
       "      \"vega-embed\": \"https://cdn.jsdelivr.net/npm//vega-embed@6?noext\",\n",
       "    };\n",
       "\n",
       "    function loadScript(lib) {\n",
       "      return new Promise(function(resolve, reject) {\n",
       "        var s = document.createElement('script');\n",
       "        s.src = paths[lib];\n",
       "        s.async = true;\n",
       "        s.onload = () => resolve(paths[lib]);\n",
       "        s.onerror = () => reject(`Error loading script: ${paths[lib]}`);\n",
       "        document.getElementsByTagName(\"head\")[0].appendChild(s);\n",
       "      });\n",
       "    }\n",
       "\n",
       "    function showError(err) {\n",
       "      outputDiv.innerHTML = `<div class=\"error\" style=\"color:red;\">${err}</div>`;\n",
       "      throw err;\n",
       "    }\n",
       "\n",
       "    function displayChart(vegaEmbed) {\n",
       "      vegaEmbed(outputDiv, spec, embedOpt)\n",
       "        .catch(err => showError(`Javascript Error: ${err.message}<br>This usually means there's a typo in your chart specification. See the javascript console for the full traceback.`));\n",
       "    }\n",
       "\n",
       "    if(typeof define === \"function\" && define.amd) {\n",
       "      requirejs.config({paths});\n",
       "      require([\"vega-embed\"], displayChart, err => showError(`Error loading script: ${err.message}`));\n",
       "    } else if (typeof vegaEmbed === \"function\") {\n",
       "      displayChart(vegaEmbed);\n",
       "    } else {\n",
       "      loadScript(\"vega\")\n",
       "        .then(() => loadScript(\"vega-lite\"))\n",
       "        .then(() => loadScript(\"vega-embed\"))\n",
       "        .catch(showError)\n",
       "        .then(() => displayChart(vegaEmbed));\n",
       "    }\n",
       "  })({\"config\": {\"view\": {\"continuousWidth\": 400, \"continuousHeight\": 300}}, \"data\": {\"name\": \"data-a699e4a3267581a834f9a0b7c7265b89\"}, \"mark\": \"bar\", \"encoding\": {\"color\": {\"type\": \"nominal\", \"field\": \"pub_bias\"}, \"stroke\": {\"condition\": {\"value\": \"red\", \"selection\": \"selector001\"}, \"value\": \"white\"}, \"tooltip\": [{\"type\": \"nominal\", \"field\": \"name\"}, {\"type\": \"quantitative\", \"field\": \"diff\", \"format\": \".4f\"}, {\"type\": \"quantitative\", \"field\": \"score\", \"format\": \".4f\"}, {\"type\": \"quantitative\", \"field\": \"score_new\", \"format\": \".4f\"}], \"x\": {\"type\": \"quantitative\", \"field\": \"diff\"}, \"y\": {\"type\": \"nominal\", \"field\": \"name\", \"sort\": \"-x\"}}, \"selection\": {\"selector001\": {\"type\": \"single\", \"on\": \"mouseover\", \"nearest\": true, \"empty\": \"none\"}}, \"transform\": [{\"calculate\": \"datum.score_new - datum.score\", \"as\": \"diff\"}], \"$schema\": \"https://vega.github.io/schema/vega-lite/v4.8.1.json\", \"datasets\": {\"data-a699e4a3267581a834f9a0b7c7265b89\": [{\"rei_id\": 114, \"cause_id\": 493, \"risk_lower\": 0.0, \"risk_upper\": 23.49125, \"risk_unit\": \"g/day\", \"risk_type\": \"continuous\", \"score\": 0.104251416368165, \"pub_bias\": 0, \"name\": \"nuts_ihd\", \"score_new\": 0.09084797540955633, \"pub_bias_new\": 0}, {\"rei_id\": 105, \"cause_id\": 493, \"risk_lower\": 4.59913110465167, \"risk_upper\": 8.042432737798691, \"risk_unit\": \"mmol/L\", \"risk_type\": \"continuous\", \"score\": -0.0183817122233967, \"pub_bias\": 1, \"name\": \"metab_fpg_cvd_ihd\", \"score_new\": 0.0046066889754562725, \"pub_bias_new\": 0}, {\"rei_id\": 119, \"cause_id\": 496, \"risk_lower\": 3.95, \"risk_upper\": 24.8, \"risk_unit\": \"g/day\", \"risk_type\": \"continuous\", \"score\": -0.0284920019701498, \"pub_bias\": 0, \"name\": \"fiber_hemstroke_496\", \"score_new\": -0.004826642894755072, \"pub_bias_new\": 0}, {\"rei_id\": 99, \"cause_id\": 444, \"risk_lower\": 0.0, \"risk_upper\": 49.525, \"risk_unit\": \"pack-year\", \"risk_type\": \"continuous\", \"score\": 0.20148083360128, \"pub_bias\": 0, \"name\": \"smoking_lip_oral_cavity_cancer\", \"score_new\": 0.20218700270291132, \"pub_bias_new\": 0}, {\"rei_id\": 123, \"cause_id\": 493, \"risk_lower\": 0.002, \"risk_upper\": 0.02725, \"risk_unit\": \"%E/day\", \"risk_type\": \"continuous\", \"score\": 0.0181552660026503, \"pub_bias\": 0, \"name\": \"transfat_ihd\", \"score_new\": 0.026261079204548315, \"pub_bias_new\": 0}, {\"rei_id\": 105, \"cause_id\": 417, \"risk_lower\": 4.3573782659975295, \"risk_upper\": 8.082934144953281, \"risk_unit\": \"mmol/L\", \"risk_type\": \"continuous\", \"score\": 0.0119913771167536, \"pub_bias\": 1, \"name\": \"metab_fpg_cvd_stroke\", \"score_new\": 0.06396129340240457, \"pub_bias_new\": 0}, {\"rei_id\": 112, \"cause_id\": 493, \"risk_lower\": 23.7537033987394, \"risk_upper\": 385.748649468077, \"risk_unit\": \"g/day\", \"risk_type\": \"continuous\", \"score\": 0.153846416437005, \"pub_bias\": 0, \"name\": \"veg_ihd\", \"score_new\": 0.2268297211611707, \"pub_bias_new\": 0}, {\"rei_id\": 99, \"cause_id\": 501, \"risk_lower\": 0.0, \"risk_upper\": 30.0, \"risk_unit\": \"cigarettes per day\", \"risk_type\": \"continuous\", \"score\": 0.81522703527146, \"pub_bias\": 0, \"name\": \"smoking_aortic_aneurism\", \"score_new\": 0.8372496967338809, \"pub_bias_new\": 0}, {\"rei_id\": 116, \"cause_id\": 497, \"risk_lower\": 8.25, \"risk_upper\": 109.1590625, \"risk_unit\": \"g/day\", \"risk_type\": \"continuous\", \"score\": 0.0207871247956266, \"pub_bias\": 0, \"name\": \"redmeat_hemstroke_497\", \"score_new\": 0.1527855117321869, \"pub_bias_new\": 0}, {\"rei_id\": 99, \"cause_id\": 441, \"risk_lower\": 0.0, \"risk_upper\": 50.0, \"risk_unit\": \"pack-year\", \"risk_type\": \"continuous\", \"score\": 0.0371909304600131, \"pub_bias\": 0, \"name\": \"smoking_colon_and_rectum_cancer\", \"score_new\": 0.0372086360175569, \"pub_bias_new\": 0}, {\"rei_id\": 112, \"cause_id\": 496, \"risk_lower\": 9.5781062091691, \"risk_upper\": 370.151029019829, \"risk_unit\": \"g/day\", \"risk_type\": \"continuous\", \"score\": -0.170314690244, \"pub_bias\": 0, \"name\": \"veg_hemstroke_496\", \"score_new\": -0.002992988181687175, \"pub_bias_new\": 0}, {\"rei_id\": 99, \"cause_id\": 509, \"risk_lower\": 0.0, \"risk_upper\": 50.0, \"risk_unit\": \"pack-year\", \"risk_type\": \"continuous\", \"score\": 0.411304836896498, \"pub_bias\": 0, \"name\": \"smoking_copd\", \"score_new\": 0.4289653375793381, \"pub_bias_new\": 0}, {\"rei_id\": 99, \"cause_id\": 297, \"risk_lower\": 0.0, \"risk_upper\": 27.5, \"risk_unit\": \"cigarettes per day\", \"risk_type\": \"continuous\", \"score\": 0.0134740715597991, \"pub_bias\": 0, \"name\": \"smoking_tb\", \"score_new\": 0.03680071138417165, \"pub_bias_new\": 0}, {\"rei_id\": 117, \"cause_id\": 441, \"risk_lower\": 0.0, \"risk_upper\": 38.5073782142857, \"risk_unit\": \"g/day\", \"risk_type\": \"continuous\", \"score\": -0.0165769381825048, \"pub_bias\": 0, \"name\": \"procmeat_colorectal\", \"score_new\": 0.0022556139104886147, \"pub_bias_new\": 0}, {\"rei_id\": 117, \"cause_id\": 976, \"risk_lower\": 0.0, \"risk_upper\": 51.175, \"risk_unit\": \"g/day\", \"risk_type\": \"continuous\", \"score\": -0.0163943218916584, \"pub_bias\": 0, \"name\": \"procmeat_diabetes\", \"score_new\": 0.052288148181104464, \"pub_bias_new\": 0}, {\"rei_id\": 99, \"cause_id\": 487, \"risk_lower\": 0.0, \"risk_upper\": 38.75, \"risk_unit\": \"pack-year\", \"risk_type\": \"continuous\", \"score\": -0.018267735248995, \"pub_bias\": 0, \"name\": \"smoking_leukemia\", \"score_new\": -0.009823108688398478, \"pub_bias_new\": 0}, {\"rei_id\": 115, \"cause_id\": 438, \"risk_lower\": 5.814166666666661, \"risk_upper\": 519.736904761905, \"risk_unit\": \"g/day\", \"risk_type\": \"continuous\", \"score\": -0.0262032117008419, \"pub_bias\": 0, \"name\": \"milk_prostate\", \"score_new\": -0.06492835340143137, \"pub_bias_new\": 0}, {\"rei_id\": 380, \"cause_id\": 493, \"risk_lower\": 3.50715, \"risk_upper\": 47.9175, \"risk_unit\": \"micrograms per meter cubed\", \"risk_type\": \"continuous\", \"score\": 0.23605618148424498, \"pub_bias\": 1, \"name\": \"air_pmhap_cvd_ihd\", \"score_new\": 0.2356220685810949, \"pub_bias_new\": 0}, {\"rei_id\": 112, \"cause_id\": 495, \"risk_lower\": 10.9464070961932, \"risk_upper\": 381.90625, \"risk_unit\": \"g/day\", \"risk_type\": \"continuous\", \"score\": 0.10148375788930901, \"pub_bias\": 0, \"name\": \"veg_ischstroke\", \"score_new\": 0.15986283932824918, \"pub_bias_new\": 0}, {\"rei_id\": 99, \"cause_id\": 456, \"risk_lower\": 0.0, \"risk_upper\": 50.0, \"risk_unit\": \"pack-year\", \"risk_type\": \"continuous\", \"score\": 0.34193632690852904, \"pub_bias\": 0, \"name\": \"smoking_pancreatic_cancer\", \"score_new\": 0.34202647416226384, \"pub_bias_new\": 0}, {\"rei_id\": 333, \"cause_id\": 493, \"risk_lower\": 0.0, \"risk_upper\": 110.730688888887, \"risk_unit\": \"g/day\", \"risk_type\": \"continuous\", \"score\": -0.19147468931831402, \"pub_bias\": 0, \"name\": \"legumes_ihd\", \"score_new\": -0.06483358096574633, \"pub_bias_new\": 0}, {\"rei_id\": 99, \"cause_id\": 493, \"risk_lower\": 0.0, \"risk_upper\": 31.25, \"risk_unit\": \"cigarettes per day\", \"risk_type\": \"continuous\", \"score\": -0.128463381783562, \"pub_bias\": 1, \"name\": \"smoking_ihd\", \"score_new\": 0.18071308387277066, \"pub_bias_new\": 0}, {\"rei_id\": 99, \"cause_id\": 423, \"risk_lower\": 0.0, \"risk_upper\": 51.25, \"risk_unit\": \"pack-year\", \"risk_type\": \"continuous\", \"score\": 1.8023664678120401, \"pub_bias\": 0, \"name\": \"smoking_laryngeal_cancer\", \"score_new\": 1.8064500899947311, \"pub_bias_new\": 0}, {\"rei_id\": 102, \"cause_id\": 493, \"risk_lower\": 0.0, \"risk_upper\": 44.99999999925, \"risk_unit\": \"grams per day\", \"risk_type\": \"continuous\", \"score\": 0.0106679661146811, \"pub_bias\": 0, \"name\": \"alcohol_ihd\", \"score_new\": 0.02149413508237872, \"pub_bias_new\": 0}, {\"rei_id\": 124, \"cause_id\": 414, \"risk_lower\": 1.230492883, \"risk_upper\": 5.625862000000001, \"risk_unit\": \"g/day\", \"risk_type\": \"continuous\", \"score\": 0.271105221555051, \"pub_bias\": 0, \"name\": \"sodium_stomach\", \"score_new\": 0.362804313783276, \"pub_bias_new\": 0}, {\"rei_id\": 99, \"cause_id\": 474, \"risk_lower\": 0.0, \"risk_upper\": 51.25, \"risk_unit\": \"pack-year\", \"risk_type\": \"continuous\", \"score\": 0.792823909270086, \"pub_bias\": 0, \"name\": \"smoking_bladder_cancer\", \"score_new\": 0.7967690755075584, \"pub_bias_new\": 0}, {\"rei_id\": 99, \"cause_id\": 671, \"risk_lower\": 0.0, \"risk_upper\": 25.0, \"risk_unit\": \"cigarettes per day\", \"risk_type\": \"continuous\", \"score\": 0.137946044956436, \"pub_bias\": 0, \"name\": \"smoking_cataracts\", \"score_new\": 0.1379502263896342, \"pub_bias_new\": 0}, {\"rei_id\": 99, \"cause_id\": 417, \"risk_lower\": 0.0, \"risk_upper\": 62.5, \"risk_unit\": \"pack-year\", \"risk_type\": \"continuous\", \"score\": -0.17515456177866198, \"pub_bias\": 0, \"name\": \"smoking_liver_cancer\", \"score_new\": -0.2118946183146028, \"pub_bias_new\": 0}, {\"rei_id\": 99, \"cause_id\": 322, \"risk_lower\": 0.0, \"risk_upper\": 31.25, \"risk_unit\": \"cigarettes per day\", \"risk_type\": \"continuous\", \"score\": 0.308541028750763, \"pub_bias\": 0, \"name\": \"smoking_lri\", \"score_new\": 0.3008627872529825, \"pub_bias_new\": 0}, {\"rei_id\": 99, \"cause_id\": 450, \"risk_lower\": 0.0, \"risk_upper\": 71.625, \"risk_unit\": \"pack-year\", \"risk_type\": \"continuous\", \"score\": 0.9341480910032142, \"pub_bias\": 0, \"name\": \"smoking_other_pharynx_cancer\", \"score_new\": 0.9349261696862612, \"pub_bias_new\": 0}, {\"rei_id\": 99, \"cause_id\": 471, \"risk_lower\": 0.0, \"risk_upper\": 43.5375, \"risk_unit\": \"pack-year\", \"risk_type\": \"continuous\", \"score\": -0.0372039386967352, \"pub_bias\": 0, \"name\": \"smoking_kidney_cancer\", \"score_new\": -0.06985425969603493, \"pub_bias_new\": 0}, {\"rei_id\": 116, \"cause_id\": 493, \"risk_lower\": 3.875, \"risk_upper\": 81.975, \"risk_unit\": \"g/day\", \"risk_type\": \"continuous\", \"score\": -0.0156939877805638, \"pub_bias\": 0, \"name\": \"redmeat_ihd\", \"score_new\": -0.013147496879594291, \"pub_bias_new\": 0}, {\"rei_id\": 116, \"cause_id\": 495, \"risk_lower\": 8.25, \"risk_upper\": 102.2325, \"risk_unit\": \"g/day\", \"risk_type\": \"continuous\", \"score\": -0.0568817493183204, \"pub_bias\": 0, \"name\": \"redmeat_ischstroke\", \"score_new\": -0.07019636256938126, \"pub_bias_new\": 0}, {\"rei_id\": 99, \"cause_id\": 672, \"risk_lower\": 0.0, \"risk_upper\": 27.5, \"risk_unit\": \"cigarettes per day\", \"risk_type\": \"continuous\", \"score\": 0.16783713557916197, \"pub_bias\": 0, \"name\": \"smoking_macular_degeneration\", \"score_new\": 0.17761638263329382, \"pub_bias_new\": 0}, {\"rei_id\": 99, \"cause_id\": 500, \"risk_lower\": 0.0, \"risk_upper\": 25.0, \"risk_unit\": \"cigarettes per day\", \"risk_type\": \"continuous\", \"score\": 0.059836472540702, \"pub_bias\": 0, \"name\": \"smoking_afib_and_flutter\", \"score_new\": 0.053833737462054325, \"pub_bias_new\": 0}, {\"rei_id\": 380, \"cause_id\": 976, \"risk_lower\": 3.6375, \"risk_upper\": 45.238766419562396, \"risk_unit\": \"micrograms per meter cubed\", \"risk_type\": \"continuous\", \"score\": 0.108486561276902, \"pub_bias\": 0, \"name\": \"air_pmhap_t2_dm\", \"score_new\": 0.137185073221235, \"pub_bias_new\": 0}, {\"rei_id\": 99, \"cause_id\": 630, \"risk_lower\": 0.0, \"risk_upper\": 26.25, \"risk_unit\": \"cigarettes per day\", \"risk_type\": \"continuous\", \"score\": 0.21929463103657398, \"pub_bias\": 0, \"name\": \"smoking_lbp\", \"score_new\": 0.22009153103946286, \"pub_bias_new\": 0}, {\"rei_id\": 111, \"cause_id\": 426, \"risk_lower\": 15.74944795793, \"risk_upper\": 368.565871379263, \"risk_unit\": \"g/day\", \"risk_type\": \"continuous\", \"score\": 0.0923758910435314, \"pub_bias\": 0, \"name\": \"fruit_lungcancer\", \"score_new\": 0.16386495954593847, \"pub_bias_new\": 0}, {\"rei_id\": 99, \"cause_id\": 534, \"risk_lower\": 0.0, \"risk_upper\": 27.925, \"risk_unit\": \"cigarettes per day\", \"risk_type\": \"continuous\", \"score\": -0.191186670360417, \"pub_bias\": 0, \"name\": \"smoking_gallbladder_diseases\", \"score_new\": -0.10815133642551647, \"pub_bias_new\": 0}, {\"rei_id\": 111, \"cause_id\": 976, \"risk_lower\": 12.4011401243544, \"risk_upper\": 329.72564733970796, \"risk_unit\": \"g/day\", \"risk_type\": \"continuous\", \"score\": -0.0097614962669622, \"pub_bias\": 0, \"name\": \"fruit_diabetes\", \"score_new\": 0.018431125223607046, \"pub_bias_new\": 0}, {\"rei_id\": 112, \"cause_id\": 411, \"risk_lower\": 62.5, \"risk_upper\": 288.5, \"risk_unit\": \"g/day\", \"risk_type\": \"continuous\", \"score\": -0.0932491522602556, \"pub_bias\": 0, \"name\": \"veg_oesophageal\", \"score_new\": -0.02435303217332219, \"pub_bias_new\": 0}, {\"rei_id\": 99, \"cause_id\": 527, \"risk_lower\": 0.0, \"risk_upper\": 21.9375, \"risk_unit\": \"cigarettes per day\", \"risk_type\": \"continuous\", \"score\": 0.17828640292362696, \"pub_bias\": 0, \"name\": \"smoking_peptic_ulcer\", \"score_new\": 0.17657632327566275, \"pub_bias_new\": 0}, {\"rei_id\": 99, \"cause_id\": 432, \"risk_lower\": 0.0, \"risk_upper\": 13.9, \"risk_unit\": \"pack-year\", \"risk_type\": \"continuous\", \"score\": 0.11972902456980301, \"pub_bias\": 0, \"name\": \"smoking_cervical_cancer\", \"score_new\": 0.15413160795616238, \"pub_bias_new\": 0}, {\"rei_id\": 116, \"cause_id\": 496, \"risk_lower\": 8.25, \"risk_upper\": 109.1590625, \"risk_unit\": \"g/day\", \"risk_type\": \"continuous\", \"score\": 0.0207871247956266, \"pub_bias\": 0, \"name\": \"redmeat_hemstroke_496\", \"score_new\": 0.1527855117321869, \"pub_bias_new\": 0}, {\"rei_id\": 116, \"cause_id\": 976, \"risk_lower\": 5.0, \"risk_upper\": 87.23, \"risk_unit\": \"g/day\", \"risk_type\": \"continuous\", \"score\": 0.00397543448175244, \"pub_bias\": 0, \"name\": \"redmeat_diabetes\", \"score_new\": -0.010369860747653895, \"pub_bias_new\": 0}, {\"rei_id\": 99, \"cause_id\": 543, \"risk_lower\": 0.0, \"risk_upper\": 39.0, \"risk_unit\": \"cigarettes per day\", \"risk_type\": \"continuous\", \"score\": 0.0368650914823136, \"pub_bias\": 0, \"name\": \"smoking_alzheimer_other_dementia\", \"score_new\": -0.302576480410646, \"pub_bias_new\": 0}, {\"rei_id\": 102, \"cause_id\": 976, \"risk_lower\": 0.0, \"risk_upper\": 37.5, \"risk_unit\": \"grams per day\", \"risk_type\": \"continuous\", \"score\": -0.0139246591192038, \"pub_bias\": 0, \"name\": \"alcohol_diabetes\", \"score_new\": 0.02030626291066006, \"pub_bias_new\": 0}, {\"rei_id\": 116, \"cause_id\": 429, \"risk_lower\": 0.0, \"risk_upper\": 64.2785714285714, \"risk_unit\": \"g/day\", \"risk_type\": \"continuous\", \"score\": -0.288509870970672, \"pub_bias\": 0, \"name\": \"redmeat_breast\", \"score_new\": -0.14169322494844191, \"pub_bias_new\": 0}, {\"rei_id\": 122, \"cause_id\": 493, \"risk_lower\": 0.0171870689655172, \"risk_upper\": 0.1452, \"risk_unit\": \"%E/day\", \"risk_type\": \"continuous\", \"score\": -0.292951221189301, \"pub_bias\": 0, \"name\": \"pufa_ihd_satfat\", \"score_new\": -0.1722644441534896, \"pub_bias_new\": 0}, {\"rei_id\": 99, \"cause_id\": 411, \"risk_lower\": 0.0, \"risk_upper\": 50.0, \"risk_unit\": \"pack-year\", \"risk_type\": \"continuous\", \"score\": 0.585740425106171, \"pub_bias\": 0, \"name\": \"smoking_esophageal_cancer\", \"score_new\": 0.5859351498599019, \"pub_bias_new\": 0}, {\"rei_id\": 111, \"cause_id\": 495, \"risk_lower\": 8.26742674956955, \"risk_upper\": 496.754909032409, \"risk_unit\": \"g/day\", \"risk_type\": \"continuous\", \"score\": 0.135355714576039, \"pub_bias\": 0, \"name\": \"fruit_ischstroke\", \"score_new\": 0.15204286334905334, \"pub_bias_new\": 0}, {\"rei_id\": 147, \"cause_id\": 438, \"risk_lower\": 0.26, \"risk_upper\": 1.2924, \"risk_unit\": \"g/day\", \"risk_type\": \"continuous\", \"score\": -0.0427744199870646, \"pub_bias\": 0, \"name\": \"calcium_prostate\", \"score_new\": -0.02806415199302176, \"pub_bias_new\": 0}, {\"rei_id\": 102, \"cause_id\": 297, \"risk_lower\": 0.0, \"risk_upper\": 37.5, \"risk_unit\": \"grams per day\", \"risk_type\": \"continuous\", \"score\": 0.0136741494857602, \"pub_bias\": 1, \"name\": \"alcohol_tb\", \"score_new\": -1.0742157093095384, \"pub_bias_new\": 0}, {\"rei_id\": 119, \"cause_id\": 441, \"risk_lower\": 4.25, \"risk_upper\": 26.505, \"risk_unit\": \"g/day\", \"risk_type\": \"continuous\", \"score\": -0.0262472212752262, \"pub_bias\": 0, \"name\": \"fiber_colorectal\", \"score_new\": 0.12103241132299344, \"pub_bias_new\": 0}, {\"rei_id\": 99, \"cause_id\": 494, \"risk_lower\": 0.0, \"risk_upper\": 29.5, \"risk_unit\": \"cigarettes per day\", \"risk_type\": \"continuous\", \"score\": 0.0489822425860478, \"pub_bias\": 1, \"name\": \"smoking_stroke\", \"score_new\": 0.13535779197666284, \"pub_bias_new\": 0}, {\"rei_id\": 99, \"cause_id\": 438, \"risk_lower\": 0.0, \"risk_upper\": 49.5, \"risk_unit\": \"cigarettes per day\", \"risk_type\": \"continuous\", \"score\": -0.0083408003709347, \"pub_bias\": 0, \"name\": \"smoking_prostate_cancer\", \"score_new\": -0.014133845397387084, \"pub_bias_new\": 0}, {\"rei_id\": 117, \"cause_id\": 493, \"risk_lower\": 0.0, \"risk_upper\": 38.64375, \"risk_unit\": \"g/day\", \"risk_type\": \"continuous\", \"score\": -0.0016504344349251, \"pub_bias\": 0, \"name\": \"procmeat_ihd\", \"score_new\": 0.010601869360503896, \"pub_bias_new\": 0}, {\"rei_id\": 99, \"cause_id\": 429, \"risk_lower\": 0.0, \"risk_upper\": 34.275, \"risk_unit\": \"pack-year\", \"risk_type\": \"continuous\", \"score\": 0.0562894810907764, \"pub_bias\": 0, \"name\": \"smoking_breast_cancer\", \"score_new\": 0.0563556452560257, \"pub_bias_new\": 0}, {\"rei_id\": 102, \"cause_id\": 322, \"risk_lower\": 0.0, \"risk_upper\": 47.785714277749996, \"risk_unit\": \"grams per day\", \"risk_type\": \"continuous\", \"score\": -0.0373248193702059, \"pub_bias\": 0, \"name\": \"alcohol_lri\", \"score_new\": -0.21467016405036551, \"pub_bias_new\": 0}, {\"rei_id\": 99, \"cause_id\": 502, \"risk_lower\": 0.0, \"risk_upper\": 31.1, \"risk_unit\": \"cigarettes per day\", \"risk_type\": \"continuous\", \"score\": -0.151732144173414, \"pub_bias\": 0, \"name\": \"smoking_peripheral_artery_disease\", \"score_new\": 0.0874289656806259, \"pub_bias_new\": 0}, {\"rei_id\": 380, \"cause_id\": 426, \"risk_lower\": 5.8265, \"risk_upper\": 290.724564873769, \"risk_unit\": \"micrograms per meter cubed\", \"risk_type\": \"continuous\", \"score\": 0.22544856523746803, \"pub_bias\": 0, \"name\": \"air_pmhap_neo_lung\", \"score_new\": 0.2885720447862181, \"pub_bias_new\": 0}, {\"rei_id\": 99, \"cause_id\": 426, \"risk_lower\": 0.0, \"risk_upper\": 51.25, \"risk_unit\": \"pack-year\", \"risk_type\": \"continuous\", \"score\": 0.732378282886253, \"pub_bias\": 0, \"name\": \"smoking_lung_cancer\", \"score_new\": 0.6596865393992379, \"pub_bias_new\": 0}, {\"rei_id\": 116, \"cause_id\": 441, \"risk_lower\": 0.0, \"risk_upper\": 99.5, \"risk_unit\": \"g/day\", \"risk_type\": \"continuous\", \"score\": -0.24089315164607397, \"pub_bias\": 0, \"name\": \"redmeat_colorectal\", \"score_new\": 0.014821829259160728, \"pub_bias_new\": 0}, {\"rei_id\": 112, \"cause_id\": 497, \"risk_lower\": 9.5781062091691, \"risk_upper\": 370.151029019829, \"risk_unit\": \"g/day\", \"risk_type\": \"continuous\", \"score\": -0.170314690244, \"pub_bias\": 0, \"name\": \"veg_hemstroke_497\", \"score_new\": -0.002992988181687175, \"pub_bias_new\": 0}, {\"rei_id\": 380, \"cause_id\": 494, \"risk_lower\": 4.6828148148148205, \"risk_upper\": 36.99695, \"risk_unit\": \"micrograms per meter cubed\", \"risk_type\": \"continuous\", \"score\": 0.130214462413866, \"pub_bias\": 0, \"name\": \"air_pmhap_cvd_stroke\", \"score_new\": 0.14624390747589044, \"pub_bias_new\": 0}, {\"rei_id\": 147, \"cause_id\": 441, \"risk_lower\": 0.30239255804015197, \"risk_upper\": 1.225925, \"risk_unit\": \"g/day\", \"risk_type\": \"continuous\", \"score\": 0.27822950799441803, \"pub_bias\": 0, \"name\": \"calcium_colorectal\", \"score_new\": 0.348741641472866, \"pub_bias_new\": 0}, {\"rei_id\": 119, \"cause_id\": 495, \"risk_lower\": 3.95, \"risk_upper\": 22.21, \"risk_unit\": \"g/day\", \"risk_type\": \"continuous\", \"score\": -0.0202091820923706, \"pub_bias\": 0, \"name\": \"fiber_ischstroke\", \"score_new\": 0.010394717757952721, \"pub_bias_new\": 0}, {\"rei_id\": 115, \"cause_id\": 441, \"risk_lower\": 0.0, \"risk_upper\": 656.616666666667, \"risk_unit\": \"g/day\", \"risk_type\": \"continuous\", \"score\": 0.0620838407212119, \"pub_bias\": 0, \"name\": \"milk_colorectal\", \"score_new\": 0.06407176499495439, \"pub_bias_new\": 0}, {\"rei_id\": 380, \"cause_id\": 509, \"risk_lower\": 3.41, \"risk_upper\": 87.0956634419981, \"risk_unit\": \"micrograms per meter cubed\", \"risk_type\": \"continuous\", \"score\": 0.421932099342743, \"pub_bias\": 0, \"name\": \"air_pmhap_resp_copd\", \"score_new\": 0.42452095446608623, \"pub_bias_new\": 0}, {\"rei_id\": 118, \"cause_id\": 493, \"risk_lower\": 0.0, \"risk_upper\": 410.84158761035104, \"risk_unit\": \"g/day\", \"risk_type\": \"continuous\", \"score\": -0.000438070504685225, \"pub_bias\": 0, \"name\": \"ssb_ihd_yesbmi\", \"score_new\": -0.000418419189674641, \"pub_bias_new\": 0}, {\"rei_id\": 118, \"cause_id\": 976, \"risk_lower\": 0.0, \"risk_upper\": 360.633505859044, \"risk_unit\": \"g/day\", \"risk_type\": \"continuous\", \"score\": 0.0827914145163406, \"pub_bias\": 0, \"name\": \"ssb_diabetes_yesbmi\", \"score_new\": 0.08337514424574509, \"pub_bias_new\": 0}, {\"rei_id\": 111, \"cause_id\": 497, \"risk_lower\": 8.26742674956955, \"risk_upper\": 491.438675577313, \"risk_unit\": \"g/day\", \"risk_type\": \"continuous\", \"score\": -0.0969442252105532, \"pub_bias\": 0, \"name\": \"fruit_hemstroke_497\", \"score_new\": 0.028564704409118874, \"pub_bias_new\": 0}, {\"rei_id\": 119, \"cause_id\": 976, \"risk_lower\": 4.4289, \"risk_upper\": 30.303671128107098, \"risk_unit\": \"g/day\", \"risk_type\": \"continuous\", \"score\": 0.0392252296293656, \"pub_bias\": 0, \"name\": \"fiber_diabetes\", \"score_new\": 0.1154451161553118, \"pub_bias_new\": 0}, {\"rei_id\": 99, \"cause_id\": 447, \"risk_lower\": 0.0, \"risk_upper\": 50.0, \"risk_unit\": \"pack-year\", \"risk_type\": \"continuous\", \"score\": 0.14923626270925, \"pub_bias\": 0, \"name\": \"smoking_nasopharyngeal_cancer\", \"score_new\": 0.1255436882697972, \"pub_bias_new\": 0}, {\"rei_id\": 111, \"cause_id\": 496, \"risk_lower\": 8.26742674956955, \"risk_upper\": 491.438675577313, \"risk_unit\": \"g/day\", \"risk_type\": \"continuous\", \"score\": -0.0969442252105532, \"pub_bias\": 0, \"name\": \"fruit_hemstroke_496\", \"score_new\": 0.028564704409118874, \"pub_bias_new\": 0}, {\"rei_id\": 102, \"cause_id\": 495, \"risk_lower\": 0.0, \"risk_upper\": 50.0, \"risk_unit\": \"grams per day\", \"risk_type\": \"continuous\", \"score\": -0.0577952654983557, \"pub_bias\": 0, \"name\": \"alcohol_ischemic_stroke\", \"score_new\": -0.02115540505933013, \"pub_bias_new\": 0}, {\"rei_id\": 113, \"cause_id\": 493, \"risk_lower\": 3.275, \"risk_upper\": 197.63784493055599, \"risk_unit\": \"g/day\", \"risk_type\": \"continuous\", \"score\": 0.14005823395191197, \"pub_bias\": 0, \"name\": \"wholegrain_ihd\", \"score_new\": 0.17011844597109144, \"pub_bias_new\": 0}, {\"rei_id\": 99, \"cause_id\": 627, \"risk_lower\": 0.0, \"risk_upper\": 20.1125, \"risk_unit\": \"cigarettes per day\", \"risk_type\": \"continuous\", \"score\": -0.0668817364986588, \"pub_bias\": 0, \"name\": \"smoking_rheumatoid_arthritis\", \"score_new\": -0.07514276907841626, \"pub_bias_new\": 0}, {\"rei_id\": 99, \"cause_id\": 515, \"risk_lower\": 0.0, \"risk_upper\": 26.25, \"risk_unit\": \"cigarettes per day\", \"risk_type\": \"continuous\", \"score\": -0.7406473809519141, \"pub_bias\": 0, \"name\": \"smoking_asthma\", \"score_new\": -0.6351473796379692, \"pub_bias_new\": 0}, {\"rei_id\": 113, \"cause_id\": 976, \"risk_lower\": 2.25, \"risk_upper\": 250.71116388888902, \"risk_unit\": \"g/day\", \"risk_type\": \"continuous\", \"score\": -0.0769011989314507, \"pub_bias\": 0, \"name\": \"wholegrain_diabetes\", \"score_new\": 0.01623554135603946, \"pub_bias_new\": 0}, {\"rei_id\": 99, \"cause_id\": 544, \"risk_lower\": 0.0, \"risk_upper\": 30.4625, \"risk_unit\": \"cigarettes per day\", \"risk_type\": \"continuous\", \"score\": -0.00611446526441486, \"pub_bias\": 0, \"name\": \"smoking_parkinson\", \"score_new\": 0.01684851510019468, \"pub_bias_new\": 0}, {\"rei_id\": 105, \"cause_id\": 671, \"risk_lower\": 4.3491933293691405, \"risk_upper\": 8.15418086672022, \"risk_unit\": \"mmol/L\", \"risk_type\": \"continuous\", \"score\": -0.0568003299180063, \"pub_bias\": 0, \"name\": \"metab_fpg_sense_cataract\", \"score_new\": 0.011255717414915451, \"pub_bias_new\": 0}, {\"rei_id\": 111, \"cause_id\": 493, \"risk_lower\": 22.6, \"risk_upper\": 451.401500526498, \"risk_unit\": \"g/day\", \"risk_type\": \"continuous\", \"score\": -0.0432686729811921, \"pub_bias\": 0, \"name\": \"fruit_ihd\", \"score_new\": 0.028604930538898045, \"pub_bias_new\": 0}, {\"rei_id\": 99, \"cause_id\": 546, \"risk_lower\": 0.0, \"risk_upper\": 20.0, \"risk_unit\": \"cigarettes per day\", \"risk_type\": \"continuous\", \"score\": 0.225240889265608, \"pub_bias\": 0, \"name\": \"smoking_multiple_sclerosis\", \"score_new\": 0.22544485932173525, \"pub_bias_new\": 0}, {\"rei_id\": 119, \"cause_id\": 497, \"risk_lower\": 3.95, \"risk_upper\": 24.8, \"risk_unit\": \"g/day\", \"risk_type\": \"continuous\", \"score\": -0.0284920019701498, \"pub_bias\": 0, \"name\": \"fiber_hemstroke_497\", \"score_new\": -0.004826642894755072, \"pub_bias_new\": 0}, {\"rei_id\": 121, \"cause_id\": 493, \"risk_lower\": 0.025, \"risk_upper\": 1.73, \"risk_unit\": \"g/day\", \"risk_type\": \"continuous\", \"score\": -0.17632038798313202, \"pub_bias\": 1, \"name\": \"omega3_ihd\", \"score_new\": 0.03930141545703709, \"pub_bias_new\": 0}, {\"rei_id\": 102, \"cause_id\": 496, \"risk_lower\": 0.0, \"risk_upper\": 49.971428591400006, \"risk_unit\": \"grams per day\", \"risk_type\": \"continuous\", \"score\": 0.0499791725739517, \"pub_bias\": 0, \"name\": \"alcohol_hem_stroke\", \"score_new\": 0.05317637079547402, \"pub_bias_new\": 0}, {\"rei_id\": 113, \"cause_id\": 441, \"risk_lower\": 9.9, \"risk_upper\": 230.324715055555, \"risk_unit\": \"g/day\", \"risk_type\": \"continuous\", \"score\": 0.0627028542073197, \"pub_bias\": 0, \"name\": \"wholegrain_colorectal\", \"score_new\": 0.06999071920393547, \"pub_bias_new\": 0}, {\"rei_id\": 119, \"cause_id\": 493, \"risk_lower\": 3.95, \"risk_upper\": 25.4875, \"risk_unit\": \"g/day\", \"risk_type\": \"continuous\", \"score\": 0.0729815866975564, \"pub_bias\": 0, \"name\": \"fiber_ihd\", \"score_new\": 0.10455026823625277, \"pub_bias_new\": 0}, {\"rei_id\": 99, \"cause_id\": 587, \"risk_lower\": 0.0, \"risk_upper\": 25.5, \"risk_unit\": \"cigarettes per day\", \"risk_type\": \"continuous\", \"score\": 0.0579439606163413, \"pub_bias\": 1, \"name\": \"smoking_diabetes\", \"score_new\": 0.09554721065017947, \"pub_bias_new\": 0}, {\"rei_id\": 113, \"cause_id\": 495, \"risk_lower\": 5.0975, \"risk_upper\": 229.607389236111, \"risk_unit\": \"g/day\", \"risk_type\": \"continuous\", \"score\": -0.0874765589807333, \"pub_bias\": 0, \"name\": \"wholegrain_ischstroke\", \"score_new\": -0.06733260572020175, \"pub_bias_new\": 0}, {\"rei_id\": 99, \"cause_id\": 414, \"risk_lower\": 0.0, \"risk_upper\": 50.6875, \"risk_unit\": \"pack-year\", \"risk_type\": \"continuous\", \"score\": 0.0432141425430981, \"pub_bias\": 0, \"name\": \"smoking_stomach_cancer\", \"score_new\": 0.03261668418232773, \"pub_bias_new\": 0}, {\"rei_id\": 380, \"cause_id\": 322, \"risk_lower\": 11.0023, \"risk_upper\": 363.0, \"risk_unit\": \"micrograms per meter cubed\", \"risk_type\": \"continuous\", \"score\": -0.37892765363557107, \"pub_bias\": 0, \"name\": \"air_pmhap_lri\", \"score_new\": 0.12368403901201055, \"pub_bias_new\": 0}]}}, {\"mode\": \"vega-lite\"});\n",
       "</script>"
      ],
      "text/plain": [
       "alt.Chart(...)"
      ]
     },
     "execution_count": 6,
     "metadata": {},
     "output_type": "execute_result"
    }
   ],
   "source": [
    "selector = alt.selection_single(on='mouseover', nearest=True, empty='none')\n",
    "\n",
    "chart = alt.Chart(pairs).mark_bar().transform_calculate(\n",
    "    diff='datum.score_new - datum.score'\n",
    ").add_selection(selector)\n",
    "\n",
    "chart.encode(\n",
    "    x='diff:Q',\n",
    "    y=alt.Y('name', sort='-x'),\n",
    "    color='pub_bias:N',\n",
    "    stroke=alt.condition(selector, alt.value('red'), alt.value('white')),\n",
    "    tooltip=[\n",
    "        'name',\n",
    "        alt.Tooltip('diff:Q', format='.4f'),\n",
    "        alt.Tooltip('score', format='.4f'),\n",
    "        alt.Tooltip('score_new', format='.4f')\n",
    "    ]\n",
    ")"
   ]
  },
  {
   "cell_type": "code",
   "execution_count": null,
   "metadata": {},
   "outputs": [],
   "source": [
    "alt.Chart(pairs).mark_point().encode(\n",
    "    x='score',\n",
    "    y='score_new',\n",
    "    color='pub_bias:N',\n",
    "    tooltip=[\n",
    "        'name',\n",
    "        alt.Tooltip('score', format='.4f'),\n",
    "        alt.Tooltip('score_new', format='.4f')\n",
    "    ]\n",
    ")"
   ]
  },
  {
   "cell_type": "code",
   "execution_count": null,
   "metadata": {},
   "outputs": [],
   "source": []
  }
 ],
 "metadata": {
  "kernelspec": {
   "display_name": "Python 3",
   "language": "python",
   "name": "python3"
  },
  "language_info": {
   "codemirror_mode": {
    "name": "ipython",
    "version": 3
   },
   "file_extension": ".py",
   "mimetype": "text/x-python",
   "name": "python",
   "nbconvert_exporter": "python",
   "pygments_lexer": "ipython3",
   "version": "3.7.7"
  }
 },
 "nbformat": 4,
 "nbformat_minor": 5
}
